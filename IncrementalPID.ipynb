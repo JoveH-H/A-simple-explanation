{
 "cells": [
  {
   "cell_type": "markdown",
   "metadata": {},
   "source": [
    "设置系数和目标值\n",
    "初始化输出、反馈和误差"
   ]
  },
  {
   "cell_type": "code",
   "execution_count": 1,
   "metadata": {},
   "outputs": [],
   "source": [
    "Kp = 0.3  # 比例系数\n",
    "Ki = 0.03  # 计分系数\n",
    "Kd = 0.03  # 微分系数\n",
    "\n",
    "goal = 100  # 目标值\n",
    "output = [0, 0]  # 输出\n",
    "bmp = 0  # 编码器反馈\n",
    "err = [0, 0]  # 输出误差"
   ]
  },
  {
   "cell_type": "code",
   "execution_count": 2,
   "metadata": {},
   "outputs": [],
   "source": [
    "def IncrementalPID_control():\n",
    "    global bmp, output\n",
    "    err[1] = err[0]  # 更新误差\n",
    "    err[0] = goal - bmp\n",
    "    output[0] = output[1] + Kp * err[0] + Ki * (err[0] + err[1]) + Kd * (err[0] - err[1])  # PID调节\n",
    "    bmp = output[0]  # 假设反馈等于现输出\n",
    "    output[1] = output[0]  # 记录现输出"
   ]
  },
  {
   "cell_type": "code",
   "execution_count": 3,
   "metadata": {},
   "outputs": [],
   "source": [
    "IncrementalTime = [0]  # 时间次数\n",
    "IncrementalOutput = [0]  # 输出\n",
    "\n",
    "for i in range(1, 20):  # 迭代\n",
    "    IncrementalPID_control()\n",
    "    IncrementalOutput.append(output[0])\n",
    "    IncrementalTime.append(i)"
   ]
  },
  {
   "cell_type": "code",
   "execution_count": 4,
   "metadata": {},
   "outputs": [
    {
     "data": {
      "text/plain": [
       "<Figure size 640x480 with 1 Axes>"
      ]
     },
     "metadata": {},
     "output_type": "display_data"
    }
   ],
   "source": [
    "import matplotlib.pyplot as plt\n",
    "\n",
    "plt.rcParams['font.sans-serif'] = ['SimHei']  # 用来正常显示中文标签\n",
    "plt.plot(IncrementalTime, IncrementalOutput, label='output')\n",
    "plt.xticks(IncrementalTime)  # 设置X轴坐标\n",
    "plt.xlim(0)  # 设置X轴的范围（起始坐标）\n",
    "plt.ylim(0)  # 设置Y轴的范围（起始坐标）\n",
    "plt.xlabel('次数')  # 设置X轴的名字\n",
    "plt.ylabel('输出')  # 设置Y轴的名字\n",
    "plt.title(\"PID趋势图\")  # 设置标题\n",
    "plt.legend()  # 设置图例\n",
    "plt.show()  # 显示图表"
   ]
  },
  {
   "cell_type": "code",
   "execution_count": null,
   "metadata": {},
   "outputs": [],
   "source": []
  }
 ],
 "metadata": {
  "kernelspec": {
   "display_name": "Python 3",
   "language": "python",
   "name": "python3"
  },
  "language_info": {
   "codemirror_mode": {
    "name": "ipython",
    "version": 3
   },
   "file_extension": ".py",
   "mimetype": "text/x-python",
   "name": "python",
   "nbconvert_exporter": "python",
   "pygments_lexer": "ipython3",
   "version": "3.7.2"
  }
 },
 "nbformat": 4,
 "nbformat_minor": 2
}
