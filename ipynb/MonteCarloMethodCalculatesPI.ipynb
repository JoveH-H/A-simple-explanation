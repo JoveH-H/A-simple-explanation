{
 "cells": [
  {
   "cell_type": "code",
   "execution_count": 1,
   "metadata": {},
   "outputs": [
    {
     "name": "stdout",
     "output_type": "stream",
     "text": [
      "pi is  3.142053333333333\n"
     ]
    }
   ],
   "source": [
    "import random\n",
    "\n",
    "r = 1.0  # 圆半径，假设为1\n",
    "n = 300000  # 总投点数\n",
    "count = 0  # 落到圆内投点数\n",
    "\n",
    "# 投点x,y的范围\n",
    "x_min, x_max = -r, r\n",
    "y_min, y_max = -r, r\n",
    "\n",
    "for i in range(0, n):\n",
    "\n",
    "    # 在 [min, max] 范围内随机生成实数\n",
    "    x = random.uniform(x_min, x_max)\n",
    "    y = random.uniform(y_min, y_max)\n",
    "\n",
    "    # 落到圆内投点数+1\n",
    "    if x * x + y * y <= r:\n",
    "        count += 1\n",
    "\n",
    "pi = (count / float(n)) * 4\n",
    "print(\"pi is \", pi)"
   ]
  }
 ],
 "metadata": {
  "kernelspec": {
   "display_name": "Python 3",
   "language": "python",
   "name": "python3"
  },
  "language_info": {
   "codemirror_mode": {
    "name": "ipython",
    "version": 3
   },
   "file_extension": ".py",
   "mimetype": "text/x-python",
   "name": "python",
   "nbconvert_exporter": "python",
   "pygments_lexer": "ipython3",
   "version": "3.7.2"
  }
 },
 "nbformat": 4,
 "nbformat_minor": 2
}
