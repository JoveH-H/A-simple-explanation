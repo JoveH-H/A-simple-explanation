{
 "cells": [
  {
   "cell_type": "code",
   "execution_count": 1,
   "metadata": {},
   "outputs": [
    {
     "name": "stdout",
     "output_type": "stream",
     "text": [
      "result is  3.7480533333333335\n"
     ]
    }
   ],
   "source": [
    "import random\n",
    "\n",
    "n = 300000  # 总投点数\n",
    "count = 0  # 位于曲线之下的投点数\n",
    "\n",
    "# 投点x,y的范围\n",
    "x_min, x_max = 1.0, 2.0\n",
    "y_min, y_max = 0.0, 8.0\n",
    "\n",
    "for i in range(0, n):\n",
    "\n",
    "    # 在[min, max]范围内随机生成实数\n",
    "    x = random.uniform(x_min, x_max)\n",
    "    y = random.uniform(y_min, y_max)\n",
    "\n",
    "    # 位于曲线之下的投点数+1\n",
    "    if x * x * x >= y:\n",
    "        count += 1\n",
    "\n",
    "# 所求的积分值即为曲线下方的面积与正方形面积8的比\n",
    "result = count / float(n) * 8\n",
    "print(\"result is \", result)"
   ]
  }
 ],
 "metadata": {
  "kernelspec": {
   "display_name": "Python 3",
   "language": "python",
   "name": "python3"
  },
  "language_info": {
   "codemirror_mode": {
    "name": "ipython",
    "version": 3
   },
   "file_extension": ".py",
   "mimetype": "text/x-python",
   "name": "python",
   "nbconvert_exporter": "python",
   "pygments_lexer": "ipython3",
   "version": "3.7.2"
  }
 },
 "nbformat": 4,
 "nbformat_minor": 2
}
