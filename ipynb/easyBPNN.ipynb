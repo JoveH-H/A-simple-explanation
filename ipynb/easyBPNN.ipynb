{
 "cells": [
  {
   "cell_type": "markdown",
   "metadata": {},
   "source": [
    "简单的神经网络 初始化"
   ]
  },
  {
   "cell_type": "code",
   "execution_count": 1,
   "metadata": {},
   "outputs": [],
   "source": [
    "import numpy as np\n",
    "import matplotlib.pyplot as plt\n",
    "\n",
    "X = np.array(\n",
    "    [[0.1, 1.1, 0.5], [1.1, 0.1, 1.5], [0.3, 1.4, 0.7], [1.4, 0.1, 1.1], [0.5, 1.8, 0.9], [1.0, 0.6, 1.8],\n",
    "     [0.7, 1.9, 0.1], [1.1, 0.2, 1.3], [0.9, 2.1, 0.8], [1.5, 0.1, 1.8], [0.1, 1.8, 0.6], [1.5, 0.3, 1.9],\n",
    "     [0.3, 1.7, 0.2], [1.7, 0.4, 1.5], [0.5, 1.1, 0.3], [1.6, 0.6, 1.8], [0.7, 1.5, 0.2], [1.5, 0.8, 1.2],\n",
    "     [0.9, 1.9, 0.5], [1.9, 1, 2.6]])\n",
    "X = X.T  # 转置X\n",
    "\n",
    "y = np.array(\n",
    "    [[0, 1, 0, 1, 0, 1, 0, 1, 0, 1, 0, 1, 0, 1, 0, 1, 0, 1, 0, 1]])\n",
    "\n",
    "m = X.shape[1]\n",
    "X = (X - np.mean(X)) / np.linalg.norm(X, ord=2, axis=1, keepdims=True)  # 归一化输入\n",
    "\n",
    "w1 = np.random.randn(3, 4) * np.sqrt(1 / 3)  # 权重初始化\n",
    "b1 = np.random.randn(4, 1)\n",
    "w2 = np.random.randn(4, 1) * np.sqrt(1 / 4)\n",
    "b2 = np.random.randn(1, 1)\n",
    "alpha = 1  # 学习效率\n",
    "lambd = 0.03  # 正则化参数\n",
    "cost = np.zeros(500)  # 初始化记录代价的列表"
   ]
  },
  {
   "cell_type": "markdown",
   "metadata": {},
   "source": [
    "定义激活函数"
   ]
  },
  {
   "cell_type": "code",
   "execution_count": 2,
   "metadata": {},
   "outputs": [],
   "source": [
    "def sigmoid(z):  # 激活函数\n",
    "    a = 1 / (1 + np.exp(-z))\n",
    "    return a"
   ]
  },
  {
   "cell_type": "markdown",
   "metadata": {},
   "source": [
    "定义激活函数的导数"
   ]
  },
  {
   "cell_type": "code",
   "execution_count": 3,
   "metadata": {},
   "outputs": [],
   "source": [
    "def d_sigmoid(a):  # 激活函数的导数\n",
    "    return a * (1 - a)"
   ]
  },
  {
   "cell_type": "markdown",
   "metadata": {},
   "source": [
    "定义预测函数"
   ]
  },
  {
   "cell_type": "code",
   "execution_count": 4,
   "metadata": {},
   "outputs": [],
   "source": [
    "def predict(x):  # 预测函数\n",
    "    x = np.array([x])\n",
    "    x = (x.T - np.mean(x)) / np.linalg.norm(x, ord=2, axis=1, keepdims=True)\n",
    "    z1_test = np.dot(w1.T, x) + b1\n",
    "    a1_test = sigmoid(z1_test)\n",
    "    z2_test = np.dot(w2.T, a1_test) + b2\n",
    "    a2_test = sigmoid(z2_test)\n",
    "    return a2_test"
   ]
  },
  {
   "cell_type": "markdown",
   "metadata": {},
   "source": [
    "迭代运算"
   ]
  },
  {
   "cell_type": "code",
   "execution_count": 5,
   "metadata": {},
   "outputs": [],
   "source": [
    "for i in range(0, 500):  # 迭代500次\n",
    "    # 向前传播\n",
    "    Z1 = np.dot(w1.T, X) + b1\n",
    "    A1 = sigmoid(Z1)\n",
    "    Z2 = np.dot(w2.T, A1) + b2\n",
    "    A2 = sigmoid(Z2)\n",
    "    # 反向传播\n",
    "    dz2 = (A2 - y)\n",
    "    dw2 = np.dot(A1, dz2.T) / m + lambd * w2 / m\n",
    "    db2 = np.sum(dz2, axis=1, keepdims=True) / m\n",
    "    dz1 = np.dot(w2, dz2) * d_sigmoid(A1)\n",
    "    dw1 = np.dot(X, dz1.T) / m + lambd * w1 / m\n",
    "    db1 = np.sum(dz1, axis=1, keepdims=True) / m\n",
    "    # 更新权重\n",
    "    w2 = w2 - alpha * dw2\n",
    "    b2 = b2 - alpha * db2\n",
    "    w1 = w1 - alpha * dw1\n",
    "    b1 = b1 - alpha * db1\n",
    "    # 记录代价（损失、误差）\n",
    "    cost[i] = -1 / m * np.sum(y * np.log(A2) + (1 - y) * np.log(1 - A2))"
   ]
  },
  {
   "cell_type": "markdown",
   "metadata": {},
   "source": [
    "图像显示"
   ]
  },
  {
   "cell_type": "code",
   "execution_count": 6,
   "metadata": {},
   "outputs": [
    {
     "data": {
      "image/png": "[encoded data removed]",
      "text/plain": [
       "<Figure size 432x288 with 1 Axes>"
      ]
     },
     "metadata": {
      "needs_background": "light"
     },
     "output_type": "display_data"
    }
   ],
   "source": [
    "%matplotlib inline\n",
    "plt.rcParams['font.sans-serif'] = ['SimHei']  # 设置正常显示中文\n",
    "plt.plot(cost, \"b\", label='代价')             # 设置曲线数值\n",
    "plt.xlabel(\"迭代次数\")                        # 设置X轴的名字\n",
    "plt.ylabel(\"代价\")                            # 设置Y轴的名字\n",
    "plt.title(\"代价变化图\")                       # 设置标题\n",
    "plt.legend()                                  # 设置图例\n",
    "plt.show()                                    # 显示图表"
   ]
  },
  {
   "cell_type": "markdown",
   "metadata": {},
   "source": [
    "显示计算结果"
   ]
  },
  {
   "cell_type": "code",
   "execution_count": 7,
   "metadata": {},
   "outputs": [
    {
     "name": "stdout",
     "output_type": "stream",
     "text": [
      "w1:[[ 3.53485299  2.41501319 -1.69594659 -0.46506595]\n",
      " [-3.95670511 -2.90826621  2.73447831  1.24344382]\n",
      " [ 3.1645732   2.29206756 -2.2545134  -0.80372522]]\n",
      "w2:[[ 3.53485299  2.41501319 -1.69594659 -0.46506595]\n",
      " [-3.95670511 -2.90826621  2.73447831  1.24344382]\n",
      " [ 3.1645732   2.29206756 -2.2545134  -0.80372522]]\n",
      "b1:[[ 0.01965446]\n",
      " [-0.02949129]\n",
      " [ 0.05821271]\n",
      " [-1.00424847]]\n",
      "b2:[[-2.5647781]]\n"
     ]
    }
   ],
   "source": [
    "print(\"w1:\" + str(w1) + \"\\nw2:\" + str(w1))   # 显示权重\n",
    "print(\"b1:\" + str(b1) + \"\\nb2:\" + str(b2))"
   ]
  },
  {
   "cell_type": "markdown",
   "metadata": {},
   "source": [
    "验证计算结果"
   ]
  },
  {
   "cell_type": "code",
   "execution_count": 8,
   "metadata": {},
   "outputs": [
    {
     "name": "stdout",
     "output_type": "stream",
     "text": [
      "predict 0 rate:99.518280%\n",
      "predict 0 rate:99.713837%\n",
      "predict 1 rate:92.412660%\n",
      "predict 1 rate:99.882484%\n"
     ]
    }
   ],
   "source": [
    "print(\"predict 0 rate:%f%%\" % ((1 - predict([0.1, 0.7, 0.5])) * 100))\n",
    "print(\"predict 0 rate:%f%%\" % ((1 - predict([0.9, 1.8, 0.5])) * 100))\n",
    "print(\"predict 1 rate:%f%%\" % (predict([1.2, 1.0, 1.5]) * 100))\n",
    "print(\"predict 1 rate:%f%%\" % (predict([1.8, 0.1, 1.9]) * 100))"
   ]
  }
 ],
 "metadata": {
  "kernelspec": {
   "display_name": "Python 3",
   "language": "python",
   "name": "python3"
  },
  "language_info": {
   "codemirror_mode": {
    "name": "ipython",
    "version": 3
   },
   "file_extension": ".py",
   "mimetype": "text/x-python",
   "name": "python",
   "nbconvert_exporter": "python",
   "pygments_lexer": "ipython3",
   "version": "3.7.2"
  }
 },
 "nbformat": 4,
 "nbformat_minor": 2
}
