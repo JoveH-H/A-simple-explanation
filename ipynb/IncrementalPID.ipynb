{
 "cells": [
  {
   "cell_type": "markdown",
   "metadata": {},
   "source": [
    "增量式PID 初始化"
   ]
  },
  {
   "cell_type": "code",
   "execution_count": 1,
   "metadata": {},
   "outputs": [],
   "source": [
    "import matplotlib.pyplot as plt\n",
    "\n",
    "Kp = 0.3   # 比例系数 调整系统的响应速度\n",
    "Ki = 0.03  # 积分系数 主要解决达不到设定值的静态误差问题\n",
    "Kd = 0.03  # 微分系数 主要解决积分项I存在导致系统的响应速度问题\n",
    "\n",
    "goal = 100       # 目标值\n",
    "output = [0, 0]  # 输出 output[0]现输出 output[0]旧输出\n",
    "bmq = 0          # 编码器反馈\n",
    "err = [0, 0]     # 输出误差 err[0]现误差 err[0]旧误差 \n",
    "\n",
    "IncrementalTime = [0]    # 时间次数\n",
    "IncrementalOutput = [0]  # 输出"
   ]
  },
  {
   "cell_type": "markdown",
   "metadata": {},
   "source": [
    "定义增量式PID函数"
   ]
  },
  {
   "cell_type": "code",
   "execution_count": 2,
   "metadata": {},
   "outputs": [],
   "source": [
    "def IncrementalPID_control():\n",
    "    global bmq, output\n",
    "    err[1] = err[0]              # 更新误差\n",
    "    err[0] = goal - bmq\n",
    "    # 输出 = 基准 + P * 误差 + I * 累积误差 + D * 误差偏差\n",
    "    output[0] = output[1] + Kp * err[0] + Ki * (err[0] + err[1]) + Kd * (err[0] - err[1])  # PID调节\n",
    "    bmq = output[0]              # 假设反馈等于现输出\n",
    "    output[1] = output[0]        # 记录现输出"
   ]
  },
  {
   "cell_type": "markdown",
   "metadata": {},
   "source": [
    "迭代运算"
   ]
  },
  {
   "cell_type": "code",
   "execution_count": 3,
   "metadata": {},
   "outputs": [],
   "source": [
    "for i in range(1, 20):   # 迭代\n",
    "    IncrementalPID_control()             # 运算一次增量式PID\n",
    "    IncrementalOutput.append(output[0])  # 添加输出结果\n",
    "    IncrementalTime.append(i)            # 添加时间次数"
   ]
  },
  {
   "cell_type": "markdown",
   "metadata": {},
   "source": [
    "图形显示"
   ]
  },
  {
   "cell_type": "code",
   "execution_count": 4,
   "metadata": {},
   "outputs": [
    {
     "data": {
      "image/png": "[encoded data removed]",
      "text/plain": [
       "<Figure size 432x288 with 1 Axes>"
      ]
     },
     "metadata": {
      "needs_background": "light"
     },
     "output_type": "display_data"
    }
   ],
   "source": [
    "%matplotlib inline\n",
    "plt.rcParams['font.sans-serif'] = ['SimHei']                  # 设置正常显示中文\n",
    "plt.plot(IncrementalTime, IncrementalOutput, label='output')  # 设置曲线数值\n",
    "plt.xticks(IncrementalTime)                                   # 设置X轴坐标数值标识\n",
    "plt.xlim(0)                                                   # 设置X轴的范围（起始坐标）\n",
    "plt.ylim(0)                                                   # 设置Y轴的范围（起始坐标）\n",
    "plt.xlabel('次数')                                            # 设置X轴的名字\n",
    "plt.ylabel('输出')                                            # 设置Y轴的名字\n",
    "plt.title(\"P:{0} I:{1} D:{2} 趋势图\".format(Kp, Ki, Kd))      # 设置标题\n",
    "plt.legend()                                                  # 设置图例\n",
    "plt.show()                                                    # 显示图表"
   ]
  }
 ],
 "metadata": {
  "kernelspec": {
   "display_name": "Python 3",
   "language": "python",
   "name": "python3"
  },
  "language_info": {
   "codemirror_mode": {
    "name": "ipython",
    "version": 3
   },
   "file_extension": ".py",
   "mimetype": "text/x-python",
   "name": "python",
   "nbconvert_exporter": "python",
   "pygments_lexer": "ipython3",
   "version": "3.7.2"
  }
 },
 "nbformat": 4,
 "nbformat_minor": 2
}
