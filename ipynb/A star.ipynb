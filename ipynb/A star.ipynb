{
 "cells": [
  {
   "cell_type": "code",
   "execution_count": 1,
   "metadata": {},
   "outputs": [],
   "source": [
    "import matplotlib.pyplot as plt\n",
    "import numpy as np"
   ]
  },
  {
   "cell_type": "code",
   "execution_count": 2,
   "metadata": {},
   "outputs": [],
   "source": [
    "class Array2D:\n",
    "    \"\"\"\n",
    "        1.构造方法需要两个参数，即二维数组的宽和高\n",
    "        2.成员变量w和h是二维数组的宽和高\n",
    "        3.使用：‘对象[x][y]’可以直接取到相应的值\n",
    "        4.数组的默认值都是0\n",
    "    \"\"\"\n",
    "\n",
    "    def __init__(self, w, h):\n",
    "        self.w = w\n",
    "        self.h = h\n",
    "        self.data = []\n",
    "        self.data = [[0 for y in range(h)] for x in range(w)]\n",
    "\n",
    "    def __getitem__(self, item):\n",
    "        return self.data[item]\n"
   ]
  },
  {
   "cell_type": "code",
   "execution_count": 3,
   "metadata": {},
   "outputs": [],
   "source": [
    "class Point:\n",
    "    \"\"\"\n",
    "    表示一个结点\n",
    "    \"\"\"\n",
    "\n",
    "    def __init__(self, x, y):\n",
    "        self.x = x\n",
    "        self.y = y\n",
    "\n",
    "    def __eq__(self, other):\n",
    "        if self.x == other.x and self.y == other.y:\n",
    "            return True\n",
    "        return False\n",
    "\n",
    "    def __str__(self):\n",
    "        return \"x:\" + str(self.x) + \",y:\" + str(self.y)"
   ]
  },
  {
   "cell_type": "code",
   "execution_count": 4,
   "metadata": {},
   "outputs": [],
   "source": [
    "class AStar:\n",
    "    \"\"\"\n",
    "    AStar算法，启发式函数默认曼哈顿距离\n",
    "    \"\"\"\n",
    "\n",
    "    # 描述AStar算法中的结点数据\n",
    "    class Node:\n",
    "        def __init__(self, point, goalPoint, g=0, hef='MD'):\n",
    "            self.point = point  # 自己的坐标\n",
    "            self.father = None  # 父结点\n",
    "            self.g = g  # g值，当前已产生的代价\n",
    "            self.D = 10  # D倍\n",
    "            # h值，未来可能产生的代价\n",
    "            if hef == 'DD':  # 对角线距离\n",
    "                D2 = np.sqrt(2) * self.D\n",
    "                h_diagonal = min(abs(point.x - goalPoint.x), abs(point.y - goalPoint.y))\n",
    "                h_straight = (abs(point.x - goalPoint.x) + abs(point.y - goalPoint.y))\n",
    "                self.h = D2 * h_diagonal + self.D * (h_straight - 2 * h_diagonal)\n",
    "            elif hef == 'ED':  # 欧几里得距离\n",
    "                self.h = np.sqrt(pow(point.x - goalPoint.x, 2) + pow(point.y - goalPoint.y, 2))\n",
    "            else:  # 曼哈顿距离\n",
    "                self.h = (abs(point.x - goalPoint.x) + abs(point.y - goalPoint.y)) * self.D\n",
    "\n",
    "    def __init__(self, map2d, startPoint, goalPoint, passTag=0, hef='MD'):\n",
    "        \"\"\"\n",
    "        构造AStar算法的启动条件\n",
    "        :param map2d: Array2D类型的寻路数组\n",
    "        :param startPoint: Point或二元组类型的寻路起点\n",
    "        :param goalPoint: Point或二元组类型的寻路终点\n",
    "        :param passTag: int类型的可行走标记（若地图数据!=passTag 即为障碍）\n",
    "        :param hef: 启发式函数 MD:曼哈顿距离 DD:对角线距离 ED:欧几里得距离\n",
    "        \"\"\"\n",
    "        # 启发式函数\n",
    "        if hef != 'MD' and hef != 'DD' and hef != 'ED':\n",
    "            hef = 'MD'\n",
    "            print(\"启发式函数输入有误，应为MD DD ED\\n默认设置曼哈顿距离\")\n",
    "        self.hef = hef\n",
    "        # 开启表，保存已产生而未访问的结点\n",
    "        self.openList = []\n",
    "        # 关闭表，保存已访问过的结点\n",
    "        self.closeList = []\n",
    "        # 寻路地图\n",
    "        self.map2d = map2d\n",
    "        # 起点终点\n",
    "        if isinstance(startPoint, Point) and isinstance(goalPoint, Point):\n",
    "            self.startPoint = startPoint\n",
    "            self.goalPoint = goalPoint\n",
    "        else:\n",
    "            self.startPoint = Point(*startPoint)\n",
    "            self.goalPoint = Point(*goalPoint)\n",
    "\n",
    "        # 可行走标记\n",
    "        self.passTag = passTag\n",
    "\n",
    "    def getMinNode(self):\n",
    "        \"\"\"\n",
    "        获得openlist中F值最小的结点\n",
    "        \"\"\"\n",
    "        currentNode = self.openList[0]\n",
    "        for node in self.openList:\n",
    "            if node.g + node.h < currentNode.g + currentNode.h:\n",
    "                currentNode = node\n",
    "        return currentNode\n",
    "\n",
    "    def pointInCloseList(self, point):\n",
    "        \"\"\"\n",
    "        判断结点是否在CloseList\n",
    "        \"\"\"\n",
    "        for node in self.closeList:\n",
    "            if node.point == point:\n",
    "                return True\n",
    "        return False\n",
    "\n",
    "    def pointInOpenList(self, point):\n",
    "        \"\"\"\n",
    "        判断结点是否在OpenList\n",
    "        \"\"\"\n",
    "        for node in self.openList:\n",
    "            if node.point == point:\n",
    "                return node\n",
    "        return None\n",
    "\n",
    "    def goalPointeInCloseList(self):\n",
    "        \"\"\"\n",
    "        判断目标结点是否在CloseList，如果存在则返回目标结点\n",
    "        \"\"\"\n",
    "        for node in self.closeList:\n",
    "            if node.point == self.goalPoint:\n",
    "                return node\n",
    "        return None\n",
    "\n",
    "    def searchNear(self, minF, offsetX, offsetY):\n",
    "        \"\"\"\n",
    "        搜索结点周围的点\n",
    "        :param minF:F值最小的结点\n",
    "        :param offsetX:坐标x轴偏移量\n",
    "        :param offsetY:坐标y轴偏移量\n",
    "        :return:\n",
    "        \"\"\"\n",
    "        # 越界检测\n",
    "        if minF.point.x + offsetX < 0 or minF.point.x + offsetX > self.map2d.w - 1 or \\\n",
    "                minF.point.y + offsetY < 0 or minF.point.y + offsetY > self.map2d.h - 1:\n",
    "            return\n",
    "        # 如果是障碍，就忽略\n",
    "        if self.map2d[minF.point.x + offsetX][minF.point.y + offsetY] != self.passTag:\n",
    "            return\n",
    "        # 如果在关闭表中，就忽略\n",
    "        currentPoint = Point(minF.point.x + offsetX, minF.point.y + offsetY)\n",
    "        if self.pointInCloseList(currentPoint):\n",
    "            return\n",
    "        # 设置单位代价\n",
    "        if offsetX == 0 or offsetY == 0:\n",
    "            step = 10\n",
    "        else:\n",
    "            step = 14\n",
    "        # 如果不在openList中，就把它加入openlist\n",
    "        currentNode = self.pointInOpenList(currentPoint)\n",
    "        if not currentNode:\n",
    "            currentNode = AStar.Node(currentPoint, self.goalPoint, g=minF.g + step, hef=self.hef)\n",
    "            currentNode.father = minF\n",
    "            self.openList.append(currentNode)\n",
    "            return\n",
    "        # 在openList中，判断minF到当前点的g值是否更小\n",
    "        if minF.g + step < currentNode.g:  # 如果更小，就重新计算g值，并且改变father\n",
    "            currentNode.g = minF.g + step\n",
    "            currentNode.father = minF\n",
    "\n",
    "    def start(self):\n",
    "        \"\"\"\n",
    "        开始寻路\n",
    "        :return: None或Point列表（路径）\n",
    "        \"\"\"\n",
    "        # 判断起始点是否是障碍\n",
    "        if self.map2d[self.startPoint.x][self.startPoint.y] != self.passTag:\n",
    "            return None\n",
    "\n",
    "        # 判断目标点是否是障碍\n",
    "        if self.map2d[self.goalPoint.x][self.goalPoint.y] != self.passTag:\n",
    "            return None\n",
    "\n",
    "        # 1.将起点放入开启列表\n",
    "        startNode = AStar.Node(self.startPoint, self.goalPoint, hef=self.hef)\n",
    "        self.openList.append(startNode)\n",
    "        # 2.主循环逻辑\n",
    "        while True:\n",
    "            # 找到F值最小的点\n",
    "            minF = self.getMinNode()\n",
    "            # 把这个点加入closeList中，并且在openList中删除它\n",
    "            self.closeList.append(minF)\n",
    "            self.openList.remove(minF)\n",
    "            # 判断这个目标点的上下左右结点，默认不允许对角运动\n",
    "            self.searchNear(minF, 0, -1)\n",
    "            self.searchNear(minF, 0, 1)\n",
    "            self.searchNear(minF, -1, 0)\n",
    "            self.searchNear(minF, 1, 0)\n",
    "            # 若启发式函数非曼哈顿距离，允许对角运动\n",
    "            if self.hef != 'MD':\n",
    "                self.searchNear(minF, 1, 1)\n",
    "                self.searchNear(minF, 1, -1)\n",
    "                self.searchNear(minF, -1, 1)\n",
    "                self.searchNear(minF, -1, -1)\n",
    "            # 判断是否终止\n",
    "            point = self.goalPointeInCloseList()\n",
    "            if point:  # 如果终点在关闭表中，就返回结果\n",
    "                cPoint = point\n",
    "                pathList = []\n",
    "                while True:\n",
    "                    if cPoint.father:\n",
    "                        pathList.append(cPoint.point)\n",
    "                        cPoint = cPoint.father\n",
    "                    else:\n",
    "                        return list(reversed(pathList))\n",
    "            if len(self.openList) == 0:\n",
    "                return None"
   ]
  },
  {
   "cell_type": "code",
   "execution_count": 5,
   "metadata": {},
   "outputs": [],
   "source": [
    "def Display_map(map, start=None, goal=None, title=None):\n",
    "    \"\"\"\n",
    "    地图显示\n",
    "    :param map: 所需显示的地图参数\n",
    "    :param start: 起始点\n",
    "    :param goal: 目标点\n",
    "    :param title: 标题\n",
    "    :return:None\n",
    "    \"\"\"\n",
    "    plt.rcParams['font.sans-serif'] = ['SimHei']  # 设置正常显示中文\n",
    "    plt.xlim(- 1, map.w)\n",
    "    plt.ylim(- 1, map.h)\n",
    "    plt.xticks(np.arange(0, map.w, 1))\n",
    "    plt.yticks(np.arange(0, map.h, 1))\n",
    "    plt.grid(lw=2)\n",
    "    obstaclesX, obstaclesY = [], []\n",
    "    pathx, pathy = [], []\n",
    "    for x in range(map.w):\n",
    "        for y in range(map.h):\n",
    "            if map[x][y] == 1:\n",
    "                obstaclesX.append(x)\n",
    "                obstaclesY.append(y)\n",
    "            elif map[x][y] == 'o':\n",
    "                pathx.append(x)\n",
    "                pathy.append(y)\n",
    "    if obstaclesX != []:\n",
    "        plt.plot(obstaclesX, obstaclesY, 'xr', markersize=10, label='障碍')\n",
    "    if pathx != []:\n",
    "        plt.plot(pathx, pathy, 'og', markersize=10, label='路径')\n",
    "    if start != None:\n",
    "        plt.plot(start[0], start[1], 'or', markersize=10, label='起始')\n",
    "    if goal != None:\n",
    "        plt.plot(goal[0], goal[1], 'ob', markersize=10, label='目标')\n",
    "    if title != None:\n",
    "        plt.title(title)  # 设置标题\n",
    "    plt.legend()  # 设置图例\n",
    "    plt.show()\n"
   ]
  },
  {
   "cell_type": "code",
   "execution_count": 6,
   "metadata": {},
   "outputs": [
    {
     "data": {
      "image/png": "[encoded data removed]",
      "text/plain": [
       "<Figure size 432x288 with 1 Axes>"
      ]
     },
     "metadata": {
      "needs_background": "light"
     },
     "output_type": "display_data"
    }
   ],
   "source": [
    "# 创建一个10*10的地图\n",
    "mapw, maph = 10, 10\n",
    "map2d = Array2D(mapw, maph)\n",
    "\n",
    "# 设置障碍\n",
    "obstacle = [[4, 9], [4, 8], [4, 7], [4, 6], [4, 5]]\n",
    "for i in obstacle:\n",
    "    map2d[i[0]][i[1]] = 1\n",
    "# 显示地图设置障碍后的样子\n",
    "Display_map(map2d, title=\"设置障碍\")"
   ]
  },
  {
   "cell_type": "code",
   "execution_count": 7,
   "metadata": {},
   "outputs": [
    {
     "data": {
      "image/png": "[encoded data removed]",
      "text/plain": [
       "<Figure size 432x288 with 1 Axes>"
      ]
     },
     "metadata": {
      "needs_background": "light"
     },
     "output_type": "display_data"
    }
   ],
   "source": [
    "# 设置起点，终点\n",
    "startx, starty = 0, 0\n",
    "goalx, goaly = 9, 8\n",
    "# 显示地图设置起点和终点后的样子\n",
    "Display_map(map2d, [startx, starty], [goalx, goaly], title=\"规划准备\")"
   ]
  },
  {
   "cell_type": "code",
   "execution_count": 8,
   "metadata": {},
   "outputs": [
    {
     "data": {
      "image/png": "[encoded data removed]",
      "text/plain": [
       "<Figure size 432x288 with 1 Axes>"
      ]
     },
     "metadata": {
      "needs_background": "light"
     },
     "output_type": "display_data"
    }
   ],
   "source": [
    "# 创建AStar对象，启动式函数为曼哈顿距离\n",
    "aStar = AStar(map2d, Point(startx, starty), Point(goalx, goaly), hef='MD')\n",
    "# 开始寻路\n",
    "pathList = aStar.start()\n",
    "\n",
    "# 遍历路径点,在map2d上以'o'表示\n",
    "for point in pathList:\n",
    "    map2d[point.x][point.y] = 'o'\n",
    "# 再次显示地图\n",
    "Display_map(map2d, [startx, starty], [goalx, goaly], title=\"曼哈顿距离轨迹规划\")"
   ]
  },
  {
   "cell_type": "code",
   "execution_count": 9,
   "metadata": {},
   "outputs": [
    {
     "data": {
      "image/png": "[encoded data removed]",
      "text/plain": [
       "<Figure size 432x288 with 1 Axes>"
      ]
     },
     "metadata": {
      "needs_background": "light"
     },
     "output_type": "display_data"
    }
   ],
   "source": [
    "# 创建一个10*10的地图\n",
    "mapw, maph = 10, 10\n",
    "map2d = Array2D(mapw, maph)\n",
    "\n",
    "# 设置障碍\n",
    "obstacle = [[4, 9], [4, 8], [4, 7], [4, 6], [4, 5]]\n",
    "for i in obstacle:\n",
    "    map2d[i[0]][i[1]] = 1\n",
    "    \n",
    "# 创建AStar对象，启动式函数为对角线距离\n",
    "aStar = AStar(map2d, Point(startx, starty), Point(goalx, goaly), hef='DD')\n",
    "# 开始寻路\n",
    "pathList = aStar.start()\n",
    "\n",
    "# 遍历路径点,在map2d上以'o'表示\n",
    "for point in pathList:\n",
    "    map2d[point.x][point.y] = 'o'\n",
    "# 再次显示地图\n",
    "Display_map(map2d, [startx, starty], [goalx, goaly], title=\"对角线距离轨迹规划\")"
   ]
  },
  {
   "cell_type": "code",
   "execution_count": 10,
   "metadata": {},
   "outputs": [
    {
     "data": {
      "image/png": "[encoded data removed]",
      "text/plain": [
       "<Figure size 432x288 with 1 Axes>"
      ]
     },
     "metadata": {
      "needs_background": "light"
     },
     "output_type": "display_data"
    }
   ],
   "source": [
    "# 创建一个10*10的地图\n",
    "mapw, maph = 10, 10\n",
    "map2d = Array2D(mapw, maph)\n",
    "\n",
    "# 设置障碍\n",
    "obstacle = [[4, 9], [4, 8], [4, 7], [4, 6], [4, 5]]\n",
    "for i in obstacle:\n",
    "    map2d[i[0]][i[1]] = 1\n",
    "    \n",
    "# 创建AStar对象，启动式函数为欧几里得距离\n",
    "aStar = AStar(map2d, Point(startx, starty), Point(goalx, goaly), hef='ED')\n",
    "# 开始寻路\n",
    "pathList = aStar.start()\n",
    "\n",
    "# 遍历路径点,在map2d上以'o'表示\n",
    "for point in pathList:\n",
    "    map2d[point.x][point.y] = 'o'\n",
    "# 再次显示地图\n",
    "Display_map(map2d, [startx, starty], [goalx, goaly], title=\"欧几里得距离轨迹规划\")"
   ]
  }
 ],
 "metadata": {
  "kernelspec": {
   "display_name": "Python 3",
   "language": "python",
   "name": "python3"
  },
  "language_info": {
   "codemirror_mode": {
    "name": "ipython",
    "version": 3
   },
   "file_extension": ".py",
   "mimetype": "text/x-python",
   "name": "python",
   "nbconvert_exporter": "python",
   "pygments_lexer": "ipython3",
   "version": "3.7.2"
  }
 },
 "nbformat": 4,
 "nbformat_minor": 2
}
